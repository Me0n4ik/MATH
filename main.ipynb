{
 "cells": [
  {
   "cell_type": "code",
   "execution_count": 1,
   "metadata": {},
   "outputs": [],
   "source": [
    "import numpy as np\n",
    "import logging\n",
    "from tqdm import tqdm"
   ]
  },
  {
   "cell_type": "code",
   "execution_count": 2,
   "metadata": {},
   "outputs": [],
   "source": [
    "from optiLib.optimizers import RandomSearchOptimizer\n",
    "from optiLib.problem import OptimizationProblem\n",
    "from optiLib.helpers import print_solution, example_objective_function, example_constraints"
   ]
  },
  {
   "cell_type": "code",
   "execution_count": 3,
   "metadata": {},
   "outputs": [
    {
     "name": "stderr",
     "output_type": "stream",
     "text": [
      "Optimizing: 100%|██████████| 1000/1000 [00:00<00:00, 999357.64it/s]\n"
     ]
    }
   ],
   "source": [
    "# Создаем задачу оптимизации\n",
    "problem = OptimizationProblem(example_objective_function, example_constraints)\n",
    "\n",
    "# Инициализация оптимизатора\n",
    "optimizer = RandomSearchOptimizer(problem)\n",
    "\n",
    "# Запуск оптимизации\n",
    "best_solution, best_value = optimizer.optimize()"
   ]
  },
  {
   "cell_type": "code",
   "execution_count": 4,
   "metadata": {},
   "outputs": [
    {
     "name": "stdout",
     "output_type": "stream",
     "text": [
      "Лучшее решение: 2.0068816633922637\n",
      "Значение целевой функции: 4.735729104421438e-05\n"
     ]
    }
   ],
   "source": [
    "print_solution(best_solution, best_value)"
   ]
  }
 ],
 "metadata": {
  "kernelspec": {
   "display_name": ".venv",
   "language": "python",
   "name": "python3"
  },
  "language_info": {
   "codemirror_mode": {
    "name": "ipython",
    "version": 3
   },
   "file_extension": ".py",
   "mimetype": "text/x-python",
   "name": "python",
   "nbconvert_exporter": "python",
   "pygments_lexer": "ipython3",
   "version": "3.12.2"
  }
 },
 "nbformat": 4,
 "nbformat_minor": 2
}
