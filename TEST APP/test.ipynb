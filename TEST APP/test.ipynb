{
 "cells": [
  {
   "cell_type": "code",
   "execution_count": 17,
   "metadata": {},
   "outputs": [
    {
     "name": "stdout",
     "output_type": "stream",
     "text": [
      "Время выполнения для каждого сетевого узла: {0: 300, 1: 300, 2: 250}\n"
     ]
    }
   ],
   "source": [
    "import networkx as nx\n",
    "import numpy as np\n",
    "\n",
    "\n",
    "def calculate_node_execution_time(task_graph, net_graph, task_difficulties, transfer_cost):\n",
    "    \"\"\"\n",
    "    Вычисляет время работы каждого узла сети на основе графа задач и их связи.\n",
    "\n",
    "    :param task_graph: Граф задач (NetworkX DiGraph), где узлы — задачи, а ребра — связи между задачами.\n",
    "    :param net_graph: Граф сети (NetworkX Graph), где узлы — сетевые узлы.\n",
    "    :param task_difficulties: Словарь, отражающий трудоемкость каждой задачи {task: трудоемкость}.\n",
    "    :param transfer_cost: Стоимость пересылки данных между связанными задачами.\n",
    "    :return: Словарь со временем выполнения для каждого сетевого узла {node: время выполнения}.\n",
    "    \"\"\"\n",
    "    # Временное накопление работы для каждого сетевого узла\n",
    "    node_execution_time = {node: 0 for node in net_graph.nodes}\n",
    "\n",
    "    # Перебор всех задач для вычисления времени\n",
    "    for task in task_graph.nodes:\n",
    "        # Предполагаем, что выполнение задачи происходит на одном узле,\n",
    "        # и получаем узел, на котором задача выполняется\n",
    "        network_node = task % len(net_graph.nodes)  # Пример распределения задач\n",
    "\n",
    "        # Добавляем трудоемкость задачи ко времени работы узла\n",
    "        node_execution_time[network_node] += task_difficulties[task]\n",
    "\n",
    "    # Перебор всех связей для вычисления времени пересылки\n",
    "    for u, v in task_graph.edges:\n",
    "        # Узлы в сети, на которых расположены задачи u и v соответственно\n",
    "        network_node_u = u % len(net_graph.nodes)\n",
    "        network_node_v = v % len(net_graph.nodes)\n",
    "\n",
    "        if network_node_u != network_node_v:\n",
    "            # Если задачи находятся на разных узлах, учитываем время пересылки\n",
    "            node_execution_time[network_node_u] += transfer_cost\n",
    "            node_execution_time[network_node_v] += transfer_cost\n",
    "    \n",
    "    return node_execution_time\n",
    "\n",
    "\n",
    "# Пример использования\n",
    "# Создаем граф задач\n",
    "task_graph = nx.DiGraph()\n",
    "task_graph.add_edges_from([(0, 1), (1, 2), (2, 3)])\n",
    "\n",
    "# Создаем граф сети\n",
    "net_graph = nx.Graph()\n",
    "net_graph.add_edges_from([(0, 1), (1, 2), (0, 2)])\n",
    "\n",
    "# Трудоемкость каждой задачи\n",
    "task_difficulties = {0: 100, 1: 200, 2: 150, 3: 100}\n",
    "\n",
    "# Стоимость пересылки\n",
    "transfer_cost = 50\n",
    "\n",
    "node_execution_times = calculate_node_execution_time(task_graph, net_graph, task_difficulties, transfer_cost)\n",
    "\n",
    "print(\"Время выполнения для каждого сетевого узла:\", node_execution_times)\n"
   ]
  },
  {
   "cell_type": "code",
   "execution_count": 18,
   "metadata": {},
   "outputs": [
    {
     "name": "stdout",
     "output_type": "stream",
     "text": [
      "Время работы узлов сети: [5, 10, 0]\n"
     ]
    }
   ],
   "source": [
    "import networkx as nx\n",
    "\n",
    "def compute_node_times(task_graph, network_graph, task_weights, transfer_weights, task_assignment):\n",
    "    \"\"\"\n",
    "    Вычисление времени выполнения задач на каждом узле сети.\n",
    "    \n",
    "    :param task_graph: Граф задач (nx.DiGraph), описывающий зависимости между задачами.\n",
    "    :param network_graph: Граф сети (nx.Graph), описывающий расположение узлов.\n",
    "    :param task_weights: Список трудоемкостей задач.\n",
    "    :param transfer_weights: Матрица трудоемкостей передачи (времени).\n",
    "    :param task_assignment: Список распределения задач по узлам сети.\n",
    "    :return: Вектор времени выполнения на каждом узле сети.\n",
    "    \"\"\"\n",
    "    \n",
    "    num_tasks = task_graph.number_of_nodes()\n",
    "    num_nodes = network_graph.number_of_nodes()\n",
    "    \n",
    "    # Время инициализации для каждого узла сети\n",
    "    node_times = [0] * num_nodes\n",
    "    \n",
    "    # Найдем критический путь в графе задач\n",
    "    for task in nx.topological_sort(task_graph):\n",
    "        # Узел сети, на который назначена текущая задача\n",
    "        assigned_node = task_assignment[task]\n",
    "        \n",
    "        # Время завершения текущей задачи\n",
    "        task_completion_time = node_times[assigned_node] + task_weights[task]\n",
    "        \n",
    "        # Обновляем время узла в сети\n",
    "        node_times[assigned_node] = task_completion_time\n",
    "        \n",
    "        # Обрабатываем все задачи, зависящие от текущей\n",
    "        for successor in task_graph.successors(task):\n",
    "            # Узел сети, на который назначена следующая задача\n",
    "            successor_node = task_assignment[successor]\n",
    "            \n",
    "            # Если задачa передается на другой узел сети, добавляем время передачи\n",
    "            if assigned_node != successor_node:\n",
    "                transfer_time = transfer_weights[task][successor]\n",
    "            else:\n",
    "                transfer_time = 0\n",
    "            \n",
    "            # Обновляем время узла в сети с учетом передачи\n",
    "            node_times[successor_node] = max(node_times[successor_node],\n",
    "                                             task_completion_time + transfer_time)\n",
    "    \n",
    "    return node_times\n",
    "\n",
    "# Пример использования\n",
    "task_graph = nx.DiGraph([\n",
    "    (0, 1), (0, 2), (1, 3), (2, 3)\n",
    "])\n",
    "network_graph = nx.Graph([\n",
    "    (0, 1), (1, 2)\n",
    "])\n",
    "task_weights = [3, 2, 2, 4]\n",
    "transfer_weights = [\n",
    "    [0, 1, 1, 0],\n",
    "    [0, 0, 0, 1],\n",
    "    [0, 0,0, 1],\n",
    "    [0, 0, 0, 0]\n",
    "]\n",
    "task_assignment = [0, 1, 0, 1]\n",
    "\n",
    "node_times = compute_node_times(task_graph, network_graph, task_weights, transfer_weights, task_assignment)\n",
    "print(\"Время работы узлов сети:\", node_times)\n"
   ]
  },
  {
   "cell_type": "code",
   "execution_count": 15,
   "metadata": {},
   "outputs": [
    {
     "name": "stdout",
     "output_type": "stream",
     "text": [
      "Количество узлов в графе:  5\n"
     ]
    }
   ],
   "source": [
    "import networkx as nx\n",
    "\n",
    "# Создание графа\n",
    "G = nx.Graph()\n",
    "G.add_nodes_from([1, 2, 3, 4, 5])\n",
    "\n",
    "# Нахождение количества узлов в графе\n",
    "num_nodes = G.number_of_nodes()\n",
    "\n",
    "print(\"Количество узлов в графе: \", num_nodes)"
   ]
  },
  {
   "cell_type": "code",
   "execution_count": 16,
   "metadata": {},
   "outputs": [
    {
     "name": "stderr",
     "output_type": "stream",
     "text": [
      "c:\\Users\\user\\Documents\\MATH\\.venv\\Lib\\site-packages\\networkx\\drawing\\nx_pylab.py:312: UserWarning: \n",
      "\n",
      "The arrowsize keyword argument is not applicable when drawing edges\n",
      "with LineCollection.\n",
      "\n",
      "To make this warning go away, either specify `arrows=True` to\n",
      "force FancyArrowPatches or use the default values.\n",
      "Note that using FancyArrowPatches may be slow for large graphs.\n",
      "\n",
      "  draw_networkx_edges(G, pos, arrows=arrows, **edge_kwds)\n"
     ]
    },
    {
     "data": {
      "image/png": "[encoded data removed]",
      "text/plain": [
       "<Figure size 640x480 with 1 Axes>"
      ]
     },
     "metadata": {},
     "output_type": "display_data"
    },
    {
     "name": "stdout",
     "output_type": "stream",
     "text": [
      "Кратчайшие пути для каждого узла к другим:\n",
      "От узла 0 до остальных узлов: {0: [0], 1: [0, 1], 2: [0, 2], 3: [0, 1, 3]}\n",
      "От узла 1 до остальных узлов: {1: [1], 0: [1, 0], 2: [1, 2], 3: [1, 3]}\n",
      "От узла 2 до остальных узлов: {2: [2], 0: [2, 0], 1: [2, 1], 3: [2, 3]}\n",
      "От узла 3 до остальных узлов: {3: [3], 1: [3, 1], 2: [3, 2], 0: [3, 1, 0]}\n"
     ]
    }
   ],
   "source": [
    "import networkx as nx\n",
    "import numpy as np\n",
    "import matplotlib.pyplot as plt\n",
    "\n",
    "# Создание матрицы смежности\n",
    "adjacency_matrix = np.array([\n",
    "    [0, 1, 1, 0],\n",
    "    [1, 0, 1, 1],\n",
    "    [1, 1, 0, 1],\n",
    "    [0, 1, 1, 0]\n",
    "])\n",
    "\n",
    "# Создание графа на основе матрицы смежности\n",
    "G = nx.from_numpy_array(adjacency_matrix)\n",
    "\n",
    "# Рисование графа\n",
    "pos = nx.circular_layout(G)  # Определяем позиции узлов для рисования\n",
    "nx.draw(G, pos, with_labels=True, node_color='lightblue', node_size=1500, font_weight='bold', font_size=10, arrowsize=20)\n",
    "plt.title('Граф на основе матрицы смежности')\n",
    "plt.show()\n",
    "\n",
    "# Нахождение кратчайших путей для каждого узла к другим\n",
    "shortest_paths = dict(nx.all_pairs_shortest_path(G))\n",
    "\n",
    "print(\"Кратчайшие пути для каждого узла к другим:\")\n",
    "for node in shortest_paths:\n",
    "    print(\"От узла\", node, \"до остальных узлов:\", shortest_paths[node])\n"
   ]
  },
  {
   "cell_type": "code",
   "execution_count": 1,
   "metadata": {},
   "outputs": [],
   "source": [
    "from main import Vector, OptimizationProblem\n",
    "import copy"
   ]
  },
  {
   "cell_type": "code",
   "execution_count": 2,
   "metadata": {},
   "outputs": [],
   "source": [
    "problem = OptimizationProblem(v_constraints={\n",
    "    'len':3,\n",
    "    'constraints': [(0, 2), (1, 3), (2, 4)],\n",
    "    'dtype': int\n",
    "})"
   ]
  },
  {
   "cell_type": "code",
   "execution_count": 3,
   "metadata": {},
   "outputs": [
    {
     "name": "stderr",
     "output_type": "stream",
     "text": [
      "2024-08-17 19:43:36,746 - INFO - Вектор успешно инициализирован: [1 2 3]\n"
     ]
    },
    {
     "name": "stdout",
     "output_type": "stream",
     "text": [
      "Исходный вектор: Вектор [1 2 3]\n"
     ]
    }
   ],
   "source": [
    "# Создание вектора с ограничением длины 3 и ограничением диапазона значений элементов\n",
    "v = Vector([1, 2, 3])\n",
    "print(\"Исходный вектор:\", v)"
   ]
  },
  {
   "cell_type": "code",
   "execution_count": 4,
   "metadata": {},
   "outputs": [
    {
     "name": "stderr",
     "output_type": "stream",
     "text": [
      "2024-08-17 19:43:36,753 - ERROR - Элемент [1 5 3] меньше или больше ограничений [[0 2]\n",
      " [1 3]\n",
      " [2 4]]\n"
     ]
    }
   ],
   "source": [
    "# Попытка изменить элемент на значение вне допустимого диапазона\n",
    "v[1] = 5"
   ]
  },
  {
   "cell_type": "code",
   "execution_count": 5,
   "metadata": {},
   "outputs": [
    {
     "name": "stdout",
     "output_type": "stream",
     "text": [
      "Вектор до изменения: Вектор [1 3 3]\n",
      "Вектор после изменения: Вектор [1 2 3]\n"
     ]
    }
   ],
   "source": [
    "# Изменение элемента в допустимом диапазоне\n",
    "print(\"Вектор до изменения:\", v)\n",
    "v[1] = 2.5\n",
    "print(\"Вектор после изменения:\", v)"
   ]
  },
  {
   "cell_type": "code",
   "execution_count": 6,
   "metadata": {},
   "outputs": [
    {
     "name": "stderr",
     "output_type": "stream",
     "text": [
      "2024-08-17 19:43:36,766 - WARNING - Преобразование типов: входные данные не соответствуют типу <class 'int'>\n",
      "2024-08-17 19:43:36,767 - INFO - Вектор успешно инициализирован: [0 1 2]\n"
     ]
    }
   ],
   "source": [
    "# Создание нового вектора\n",
    "v2 = Vector([0.5, 1.5, 2.5])"
   ]
  },
  {
   "cell_type": "code",
   "execution_count": 7,
   "metadata": {},
   "outputs": [
    {
     "name": "stderr",
     "output_type": "stream",
     "text": [
      "2024-08-17 19:43:36,772 - WARNING - Преобразование типов: входные данные не соответствуют типу <class 'int'>\n",
      "2024-08-17 19:43:36,773 - ERROR - Элемент [1 3 5] меньше или больше ограничений [[0 2]\n",
      " [1 3]\n",
      " [2 4]]\n",
      "2024-08-17 19:43:36,773 - INFO - Вектор успешно инициализирован: [1 3 4]\n",
      "2024-08-17 19:43:36,774 - INFO - Выполнено сложение двух векторов.\n",
      "2024-08-17 19:43:36,775 - WARNING - Преобразование типов: входные данные не соответствуют типу <class 'int'>\n",
      "2024-08-17 19:43:36,776 - ERROR - Элемент [1 1 1] меньше или больше ограничений [[0 2]\n",
      " [1 3]\n",
      " [2 4]]\n",
      "2024-08-17 19:43:36,776 - INFO - Вектор успешно инициализирован: [1 1 2]\n",
      "2024-08-17 19:43:36,777 - INFO - Выполнено вычитание двух векторов.\n",
      "2024-08-17 19:43:36,777 - WARNING - Преобразование типов: входные данные не соответствуют типу <class 'int'>\n",
      "2024-08-17 19:43:36,778 - ERROR - Элемент [2 4 6] меньше или больше ограничений [[0 2]\n",
      " [1 3]\n",
      " [2 4]]\n",
      "2024-08-17 19:43:36,778 - INFO - Вектор успешно инициализирован: [2 3 4]\n",
      "2024-08-17 19:43:36,779 - INFO - Выполнено умножение двух векторов.\n",
      "2024-08-17 19:43:36,779 - WARNING - Преобразование типов: входные данные не соответствуют типу <class 'int'>\n",
      "2024-08-17 19:43:36,780 - ERROR - Элемент [0 1 1] меньше или больше ограничений [[0 2]\n",
      " [1 3]\n",
      " [2 4]]\n",
      "2024-08-17 19:43:36,781 - INFO - Вектор успешно инициализирован: [0 1 2]\n",
      "2024-08-17 19:43:36,781 - INFO - Выполнено деление двух векторов.\n"
     ]
    }
   ],
   "source": [
    "# Выполнение операций с векторами\n",
    "v_sum = v + v2\n",
    "v_diff = v - v2\n",
    "v_prod = v * 2\n",
    "v_div = v / 2"
   ]
  },
  {
   "cell_type": "code",
   "execution_count": 8,
   "metadata": {},
   "outputs": [
    {
     "name": "stdout",
     "output_type": "stream",
     "text": [
      "Сумма векторов: Вектор [1 3 4]\n",
      "Разность векторов: Вектор [1 1 2]\n",
      "Произведение вектора на 2: Вектор [2 3 4]\n",
      "Деление вектора на 2: Вектор [0 1 2]\n"
     ]
    }
   ],
   "source": [
    "\n",
    "print(\"Сумма векторов:\", v_sum)\n",
    "print(\"Разность векторов:\", v_diff)\n",
    "print(\"Произведение вектора на 2:\", v_prod)\n",
    "print(\"Деление вектора на 2:\", v_div)"
   ]
  },
  {
   "cell_type": "code",
   "execution_count": 9,
   "metadata": {},
   "outputs": [],
   "source": [
    "v3 = copy.copy(v)"
   ]
  },
  {
   "cell_type": "code",
   "execution_count": 10,
   "metadata": {},
   "outputs": [
    {
     "name": "stdout",
     "output_type": "stream",
     "text": [
      "2821658352512\n",
      "2821657848688\n"
     ]
    }
   ],
   "source": [
    "print(id(v3))\n",
    "print(id(v))"
   ]
  },
  {
   "cell_type": "code",
   "execution_count": 11,
   "metadata": {},
   "outputs": [
    {
     "name": "stdout",
     "output_type": "stream",
     "text": [
      "Вектор [1 2 3]\n",
      "Вектор [1 2 3]\n"
     ]
    }
   ],
   "source": [
    "print(v3)\n",
    "print(v)"
   ]
  },
  {
   "cell_type": "code",
   "execution_count": 14,
   "metadata": {},
   "outputs": [
    {
     "name": "stderr",
     "output_type": "stream",
     "text": [
      "2024-08-17 19:44:06,740 - WARNING - Преобразование типов: входные данные не соответствуют типу <class 'int'>\n",
      "2024-08-17 19:44:06,741 - INFO - Вектор успешно инициализирован: [0 2 2]\n",
      "2024-08-17 19:44:06,742 - WARNING - Преобразование типов: входные данные не соответствуют типу <class 'int'>\n",
      "2024-08-17 19:44:06,742 - INFO - Вектор успешно инициализирован: [1 2 2]\n",
      "2024-08-17 19:44:06,743 - WARNING - Преобразование типов: входные данные не соответствуют типу <class 'int'>\n",
      "2024-08-17 19:44:06,743 - INFO - Вектор успешно инициализирован: [0 1 3]\n",
      "2024-08-17 19:44:06,743 - WARNING - Преобразование типов: входные данные не соответствуют типу <class 'int'>\n",
      "2024-08-17 19:44:06,744 - INFO - Вектор успешно инициализирован: [0 1 2]\n",
      "2024-08-17 19:44:06,744 - WARNING - Преобразование типов: входные данные не соответствуют типу <class 'int'>\n",
      "2024-08-17 19:44:06,744 - INFO - Вектор успешно инициализирован: [0 2 2]\n",
      "2024-08-17 19:44:06,746 - WARNING - Преобразование типов: входные данные не соответствуют типу <class 'int'>\n",
      "2024-08-17 19:44:06,746 - INFO - Вектор успешно инициализирован: [1 1 2]\n",
      "2024-08-17 19:44:06,746 - WARNING - Преобразование типов: входные данные не соответствуют типу <class 'int'>\n",
      "2024-08-17 19:44:06,747 - INFO - Вектор успешно инициализирован: [1 2 3]\n",
      "2024-08-17 19:44:06,748 - WARNING - Преобразование типов: входные данные не соответствуют типу <class 'int'>\n",
      "2024-08-17 19:44:06,749 - INFO - Вектор успешно инициализирован: [1 2 2]\n",
      "2024-08-17 19:44:06,749 - WARNING - Преобразование типов: входные данные не соответствуют типу <class 'int'>\n",
      "2024-08-17 19:44:06,749 - INFO - Вектор успешно инициализирован: [1 2 3]\n",
      "2024-08-17 19:44:06,750 - WARNING - Преобразование типов: входные данные не соответствуют типу <class 'int'>\n",
      "2024-08-17 19:44:06,750 - INFO - Вектор успешно инициализирован: [1 2 3]\n"
     ]
    },
    {
     "name": "stdout",
     "output_type": "stream",
     "text": [
      "[Вектор [0 2 2], Вектор [1 2 2], Вектор [0 1 3], Вектор [0 1 2], Вектор [0 2 2], Вектор [1 1 2], Вектор [1 2 3], Вектор [1 2 2], Вектор [1 2 3], Вектор [1 2 3]]\n"
     ]
    }
   ],
   "source": [
    "print([Vector() for _ in range(10)])"
   ]
  },
  {
   "cell_type": "code",
   "execution_count": 12,
   "metadata": {},
   "outputs": [],
   "source": [
    "from main import Vector, OptimizationProblem, SimpleOptimizer\n",
    "import copy"
   ]
  },
  {
   "cell_type": "code",
   "execution_count": 13,
   "metadata": {},
   "outputs": [
    {
     "ename": "TypeError",
     "evalue": "OptimizationProblem.__init__() got an unexpected keyword argument 'initial_vector'",
     "output_type": "error",
     "traceback": [
      "\u001b[1;31m---------------------------------------------------------------------------\u001b[0m",
      "\u001b[1;31mTypeError\u001b[0m                                 Traceback (most recent call last)",
      "Cell \u001b[1;32mIn[13], line 8\u001b[0m\n\u001b[0;32m      6\u001b[0m objective_functions \u001b[38;5;241m=\u001b[39m [f1]\n\u001b[0;32m      7\u001b[0m constraints \u001b[38;5;241m=\u001b[39m []\n\u001b[1;32m----> 8\u001b[0m problem \u001b[38;5;241m=\u001b[39m \u001b[43mOptimizationProblem\u001b[49m\u001b[43m(\u001b[49m\u001b[43minitial_vector\u001b[49m\u001b[38;5;241;43m=\u001b[39;49m\u001b[43m[\u001b[49m\u001b[38;5;241;43m0\u001b[39;49m\u001b[43m,\u001b[49m\u001b[38;5;241;43m0\u001b[39;49m\u001b[43m,\u001b[49m\u001b[38;5;241;43m0\u001b[39;49m\u001b[43m,\u001b[49m\u001b[38;5;241;43m0\u001b[39;49m\u001b[43m,\u001b[49m\u001b[38;5;241;43m0\u001b[39;49m\u001b[43m,\u001b[49m\u001b[38;5;241;43m0\u001b[39;49m\u001b[43m,\u001b[49m\u001b[38;5;241;43m0\u001b[39;49m\u001b[43m,\u001b[49m\u001b[38;5;241;43m0\u001b[39;49m\u001b[43m,\u001b[49m\u001b[38;5;241;43m0\u001b[39;49m\u001b[43m,\u001b[49m\u001b[38;5;241;43m0\u001b[39;49m\u001b[43m,\u001b[49m\u001b[38;5;241;43m0\u001b[39;49m\u001b[43m,\u001b[49m\u001b[38;5;241;43m0\u001b[39;49m\u001b[43m]\u001b[49m\u001b[43m)\u001b[49m\n\u001b[0;32m      9\u001b[0m optimizer \u001b[38;5;241m=\u001b[39m SimpleOptimizer(problem)\n\u001b[0;32m     10\u001b[0m optimizer\u001b[38;5;241m.\u001b[39moptimize()\n",
      "\u001b[1;31mTypeError\u001b[0m: OptimizationProblem.__init__() got an unexpected keyword argument 'initial_vector'"
     ]
    }
   ],
   "source": [
    "def f1(x):\n",
    "    return sum(x)\n",
    "\n",
    "\n",
    "# Пример использования\n",
    "objective_functions = [f1]\n",
    "constraints = []\n",
    "problem = OptimizationProblem(initial_vector=[0,0,0,0,0,0,0,0,0,0,0,0])\n",
    "optimizer = SimpleOptimizer(problem)\n",
    "optimizer.optimize()"
   ]
  }
 ],
 "metadata": {
  "kernelspec": {
   "display_name": ".venv",
   "language": "python",
   "name": "python3"
  },
  "language_info": {
   "codemirror_mode": {
    "name": "ipython",
    "version": 3
   },
   "file_extension": ".py",
   "mimetype": "text/x-python",
   "name": "python",
   "nbconvert_exporter": "python",
   "pygments_lexer": "ipython3",
   "version": "3.12.2"
  }
 },
 "nbformat": 4,
 "nbformat_minor": 2
}
