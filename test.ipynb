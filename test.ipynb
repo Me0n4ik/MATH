{
 "cells": [
  {
   "cell_type": "code",
   "execution_count": 1,
   "metadata": {},
   "outputs": [],
   "source": [
    "import numpy as np\n",
    "import logging\n",
    "from tqdm import tqdm"
   ]
  },
  {
   "cell_type": "code",
   "execution_count": 2,
   "metadata": {},
   "outputs": [],
   "source": [
    "from optiLib.optimizers import RandomSearchOptimizer, ParticleSwarmOptimizer\n",
    "from optiLib.problem import OptimizationProblem\n",
    "from optiLib.helpers import print_solution, example_objective_function, example_constraints"
   ]
  },
  {
   "cell_type": "code",
   "execution_count": 3,
   "metadata": {},
   "outputs": [
    {
     "name": "stderr",
     "output_type": "stream",
     "text": [
      "Optimizing: 100%|██████████| 10000/10000 [00:12<00:00, 831.21it/s]\n"
     ]
    }
   ],
   "source": [
    "# Создаем задачу оптимизации\n",
    "problem = OptimizationProblem(example_objective_function, len=2,bounds=[(-10,10),(-10,10)],dtype=float)\n",
    "\n",
    "# Инициализация оптимизатора\n",
    "optimizer = ParticleSwarmOptimizer(problem)\n",
    "\n",
    "# Запуск оптимизации\n",
    "best_solution, best_value = optimizer.optimize()"
   ]
  },
  {
   "cell_type": "code",
   "execution_count": 4,
   "metadata": {},
   "outputs": [
    {
     "name": "stdout",
     "output_type": "stream",
     "text": [
      "Лучшее решение: [ 8.05502347 -9.66459003]\n",
      "Значение целевой функции: -19.208502567886754\n"
     ]
    }
   ],
   "source": [
    "print_solution(best_solution, best_value)"
   ]
  }
 ],
 "metadata": {
  "kernelspec": {
   "display_name": ".venv",
   "language": "python",
   "name": "python3"
  },
  "language_info": {
   "codemirror_mode": {
    "name": "ipython",
    "version": 3
   },
   "file_extension": ".py",
   "mimetype": "text/x-python",
   "name": "python",
   "nbconvert_exporter": "python",
   "pygments_lexer": "ipython3",
   "version": "3.12.3"
  }
 },
 "nbformat": 4,
 "nbformat_minor": 2
}
