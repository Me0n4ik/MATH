{
 "cells": [
  {
   "cell_type": "code",
   "execution_count": 1,
   "metadata": {},
   "outputs": [],
   "source": [
    "import networkx as nx\n",
    "import numpy as np\n",
    "import functools\n",
    "import random"
   ]
  },
  {
   "cell_type": "code",
   "execution_count": 2,
   "metadata": {},
   "outputs": [],
   "source": [
    "from optiLib.problem import NetGraph\n",
    "from optiLib.problem import TaskGraph\n",
    "\n",
    "def generate_adjacency_matrix(rows, cols):\n",
    "    num_nodes = rows * cols\n",
    "    adjacency_matrix = [[0 for _ in range(num_nodes)] for _ in range(num_nodes)]\n",
    "\n",
    "    for row in range(rows):\n",
    "        for col in range(cols):\n",
    "            node_index = row * cols + col\n",
    "            if col > 0:  # узел слева\n",
    "                adjacency_matrix[node_index][node_index - 1] = 1\n",
    "            if col < cols - 1:  # узел справа\n",
    "                adjacency_matrix[node_index][node_index + 1] = 1\n",
    "            if row > 0:  # узел сверху\n",
    "                adjacency_matrix[node_index][node_index - cols] = 1\n",
    "            if row < rows - 1:  # узел снизу\n",
    "                adjacency_matrix[node_index][node_index + cols] = 1\n",
    "\n",
    "    return adjacency_matrix\n",
    "\n",
    "\n",
    "martx = [\n",
    "    [0, 100, 100, 0], \n",
    "    [0, 0, 0, 100], \n",
    "    [0, 0, 0, 100], \n",
    "    [0, 0, 0, 0], \n",
    "]\n",
    "\n",
    "net  = NetGraph(generate_adjacency_matrix(3, 3), net_power=(1000, 2500), net_power_arr=[5000, 500, 2000, 1000, 3000, 2000, 300, 1500, 1000], e0=(10, 50), emax=(70,100))\n",
    "task = TaskGraph(martx, w_arr=[10000, 5000, 5000, 3000])"
   ]
  },
  {
   "cell_type": "code",
   "execution_count": 3,
   "metadata": {},
   "outputs": [],
   "source": [
    "import functools\n",
    "import networkx as nx\n",
    "import numpy as np\n",
    "\n",
    "@functools.lru_cache\n",
    "def create_paths(vector, task_edges, network_graph):\n",
    "    RANDOM_SEED = 1\n",
    "    random.seed(RANDOM_SEED)\n",
    "    np.random.seed(RANDOM_SEED)\n",
    "\n",
    "    paths = {}\n",
    "    \n",
    "    for start, end in task_edges:\n",
    "        if vector[start] == vector[end]:\n",
    "            paths[str(start) + str(end)] = [vector[start]]\n",
    "        else:\n",
    "            paths[str(start) + str(end)] = random.choice(list(nx.all_shortest_paths(network_graph, vector[start], vector[end])))\n",
    "    return paths\n",
    "\n",
    "@functools.lru_cache\n",
    "def network_status_calculation(vector, problem):\n",
    "    RANDOM_SEED = 1\n",
    "    random.seed(RANDOM_SEED)\n",
    "    np.random.seed(RANDOM_SEED)\n",
    "    \n",
    "    T_lim = problem.t_lim\n",
    "    vector_tuple = tuple(vector) \n",
    "    task_edges = tuple((start, end) for start, end, _ in nx.to_edgelist(problem.task_graph.graph))\n",
    "    network_graph = problem.network_graph.graph\n",
    "    \n",
    "    paths = create_paths(vector_tuple, task_edges, network_graph)\n",
    "    \n",
    "    net_number = network_graph.number_of_nodes()\n",
    "    task_number = problem.task_graph.graph.number_of_nodes()\n",
    "\n",
    "    W = [0] * net_number\n",
    "    v_task_to_node = [0] * net_number\n",
    "    v_sent_to_node = [0] * net_number\n",
    "    v_reseive_to_node = [0] * net_number\n",
    "    \n",
    "    for start, end, weight in nx.to_edgelist(problem.task_graph.graph):\n",
    "        path_key = str(start) + str(end)\n",
    "        path = paths[path_key]\n",
    "        \n",
    "        if len(path) > 1:\n",
    "            W[path[0]] += problem.task_graph.operations[start].w + weight['weight']\n",
    "            v_sent_to_node[path[0]] += weight['weight']\n",
    "            v_task_to_node[path[0]] += problem.task_graph.operations[start].w\n",
    "            \n",
    "            W[path[-1]] += problem.task_graph.operations[end].w + weight['weight']\n",
    "            v_reseive_to_node[path[-1]] += weight['weight']\n",
    "            v_task_to_node[path[-1]] += problem.task_graph.operations[end].w\n",
    "            \n",
    "            for node in path[1:-1]:\n",
    "                W[node] += 2 * weight['weight']\n",
    "                v_sent_to_node[node] += weight['weight']\n",
    "                v_reseive_to_node[node] += weight['weight']\n",
    "        else:\n",
    "            W[vector[start]] += problem.task_graph.operations[start].w\n",
    "            v_task_to_node[vector[start]] += problem.task_graph.operations[start].w\n",
    "            \n",
    "            W[vector[end]] += problem.task_graph.operations[end].w\n",
    "            v_task_to_node[vector[end]] += problem.task_graph.operations[end].w\n",
    "    \n",
    "    vector_tuple = tuple(vector) \n",
    "    \n",
    "    arr = sorted(nx.all_simple_paths(problem.task_graph.graph, 0, task_number - 1), key=len, reverse=True)\n",
    "    \n",
    "    T_task = [0] * task_number\n",
    "    len_first_path = len(arr[0])\n",
    "    time_per_task = T_lim / len_first_path\n",
    "    \n",
    "    for task in arr[0]:\n",
    "        T_task[task] = time_per_task\n",
    "    \n",
    "    for path_task in arr[1:]:\n",
    "        sum_t = sum(T_task[task] for task in path_task)\n",
    "        temp = [task for task in path_task if T_task[task] == 0]\n",
    "        \n",
    "        if temp:  # если нашлись задачи без оценки времени\n",
    "            time_remaining = max(0, T_lim - sum_t)\n",
    "            time_per_task_temp = time_remaining / len(temp)\n",
    "            for task in temp:\n",
    "                T_task[task] = time_per_task_temp\n",
    "    \n",
    "    T_NET = [0] * net_number\n",
    "\n",
    "    for start, end, _ in nx.to_edgelist(problem.task_graph.graph):\n",
    "        path_net = paths[str(start) + str(end)]\n",
    "        if len(path_net) == 1:\n",
    "            T_NET[path_net[-1]] = min(T_NET[path_net[-1]] or time_per_task, T_task[start], T_task[end])\n",
    "        else:\n",
    "            T_NET[path_net[-1]] = min(T_NET[path_net[-1]] or T_task[end], T_task[end])\n",
    "            time_start_share = T_task[start] / (len(path_net) - 1)\n",
    "            for node in path_net[:-1]:\n",
    "                T_NET[node] = min(T_NET[node] or time_start_share, time_start_share)\n",
    "    \n",
    "    special_t = T_lim / len_first_path\n",
    "    result = [[] for _ in range(net_number)]\n",
    "    for i, val in enumerate(vector):\n",
    "        result[val].append(i)\n",
    "    \n",
    "    for node in range(net_number):\n",
    "        common_tasks = set(result[node]) & set(arr[0])\n",
    "        if len(common_tasks) > 1:\n",
    "            T_NET[node] = special_t * len(common_tasks)\n",
    "    \n",
    "    D = [W[i] / (problem.network_graph.nodes[i].p * T_NET[i]) if T_NET[i] != 0 else 0 for i in range(net_number)]\n",
    "    return {\"w\":W, \"v_task_to_node\":v_task_to_node, \"v_sent_to_node\":v_sent_to_node, \"v_reseive_to_node\":v_reseive_to_node, \"D\":D, \"T_NET\":T_NET, \"T_task\":T_task}\n",
    "\n",
    "@functools.lru_cache\n",
    "def status(vector, problem):\n",
    "    problem.scheduler.calculate_schedule(vector)\n",
    "    return {\"Time\":problem.scheduler.get_total_execution_time(), \"edge_hop\":problem.scheduler.get_transfer_count(), \"time_node\":problem.scheduler.get_node_working_times()}\n",
    "\n",
    "def c1_time_limit(vector, problem):\n",
    "    \"\"\"\n",
    "    Проверка на ограничение по времени\n",
    "    \"\"\"\n",
    "    net_ststus = status(tuple(vector), problem)\n",
    "    time = net_ststus['Time']\n",
    "    return int(time <= problem.t_lim)\n",
    "\n",
    "def c2_restriction_first_node(vector, problem):\n",
    "    \"\"\"\n",
    "    Проверка на ограничение на первый узел \n",
    "    \"\"\"\n",
    "    net_ststus = status(tuple(vector), problem)\n",
    "    time_node = net_ststus['time_node']\n",
    "    return int(time_node[0] <= 3)\n",
    "\n",
    "def f1_min_hop(vector, problem):\n",
    "    net_ststus = status(tuple(vector), problem)\n",
    "    edge_hop = net_ststus['edge_hop']\n",
    "    return edge_hop\n",
    "\n",
    "def f_min_workload_node_0(vector, problem):\n",
    "    net_ststus = status(tuple(vector), problem)\n",
    "    t = net_ststus[\"Time\"]\n",
    "    time_node = net_ststus[\"time_node\"]\n",
    "\n",
    "    node = 0\n",
    "    workload = time_node.get(node, 0) / t\n",
    "    return 1 if workload == 0 else workload  \n",
    "\n",
    "\n",
    "def f_min_workload_node_1(vector, problem):\n",
    "    net_ststus = status(tuple(vector), problem)\n",
    "    t = net_ststus[\"Time\"]\n",
    "    time_node = net_ststus[\"time_node\"]\n",
    "    node = 1\n",
    "    workload = time_node.get(node, 0) / t\n",
    "    return 1 if workload == 0 else workload \n",
    "\n",
    "def f_min_workload_node_2(vector, problem):\n",
    "    net_ststus = status(tuple(vector), problem)\n",
    "    t = net_ststus[\"Time\"]\n",
    "    time_node = net_ststus[\"time_node\"]\n",
    "    node = 2\n",
    "    workload = time_node.get(node, 0) / t\n",
    "    return 1 if workload == 0 else workload \n",
    "\n",
    "def f_min_workload_node_3(vector, problem):\n",
    "    net_ststus = status(tuple(vector), problem)\n",
    "    t = net_ststus[\"Time\"]\n",
    "    time_node = net_ststus[\"time_node\"]\n",
    "    node = 3\n",
    "    workload = time_node.get(node, 0) / t\n",
    "    return 1 if workload == 0 else workload \n",
    "\n",
    "def f_min_workload_node_4(vector, problem):\n",
    "    net_ststus = status(tuple(vector), problem)\n",
    "    t = net_ststus[\"Time\"]\n",
    "    time_node = net_ststus[\"time_node\"]\n",
    "    node = 4\n",
    "    workload = time_node.get(node, 0) / t \n",
    "    return 1 if workload == 0 else workload \n",
    "\n",
    "def f_min_workload_node_5(vector, problem):\n",
    "    net_ststus = status(tuple(vector), problem)\n",
    "    t = net_ststus[\"Time\"]\n",
    "    time_node = net_ststus[\"time_node\"]\n",
    "    node = 5\n",
    "    workload = time_node.get(node, 0) / t\n",
    "    return 1 if workload == 0 else workload \n",
    "\n",
    "def f_min_workload_node_6(vector, problem):\n",
    "    net_ststus = status(tuple(vector), problem)\n",
    "    t = net_ststus[\"Time\"]\n",
    "    time_node = net_ststus[\"time_node\"]\n",
    "    node = 6\n",
    "    workload = time_node.get(node, 0) / t\n",
    "    return 1 if workload == 0 else workload \n",
    "\n",
    "def f_min_workload_node_7(vector, problem):\n",
    "    net_ststus = status(tuple(vector), problem)\n",
    "    t = net_ststus[\"Time\"]\n",
    "    time_node = net_ststus[\"time_node\"]\n",
    "    node = 7\n",
    "    workload = time_node.get(node, 0) / t\n",
    "    return 1 if workload == 0 else workload \n",
    "\n",
    "def f_min_workload_node_8(vector, problem):\n",
    "    net_ststus = status(tuple(vector), problem)\n",
    "    t = net_ststus[\"Time\"]\n",
    "    time_node = net_ststus[\"time_node\"]\n",
    "    node = 8\n",
    "    workload = time_node.get(node, 0) / t\n",
    "    return 1 if workload == 0 else workload \n",
    "\n",
    "def f2(vector, problem):\n",
    "    \"\"\"\n",
    "    Вычисляет количество пересылок данных, необходимых при распределении задач\n",
    "    по узлам сети, если изначально все задачи были на узле 0.\n",
    "    \n",
    "    Args:\n",
    "        vector (list): Вектор распределения задач на узлы сети.\n",
    "        problem (): network_graph (nx.Graph): Граф сети.\n",
    "        \n",
    "    Returns:\n",
    "        int: Общее количество пересылок данных.\n",
    "    \"\"\"\n",
    "    total_transfers = 0\n",
    "    network_graph = problem.network_graph.graph\n",
    "\n",
    "    for task_id, node_id in enumerate(vector):\n",
    "        if node_id != 0:\n",
    "            # Найти кратчайший путь от узла 0 до текущего узла\n",
    "            path = nx.shortest_path(network_graph, source=0, target=node_id)\n",
    "            \n",
    "            # Увеличить счетчик пересылок на количество узлов в пути\n",
    "            total_transfers += len(path) - 1\n",
    "    \n",
    "    return total_transfers + 1\n"
   ]
  },
  {
   "cell_type": "code",
   "execution_count": 4,
   "metadata": {},
   "outputs": [
    {
     "ename": "",
     "evalue": "",
     "output_type": "error",
     "traceback": [
      "\u001b[1;31mThe Kernel crashed while executing code in the current cell or a previous cell. \n",
      "\u001b[1;31mPlease review the code in the cell(s) to identify a possible cause of the failure. \n",
      "\u001b[1;31mClick <a href='https://aka.ms/vscodeJupyterKernelCrash'>here</a> for more info. \n",
      "\u001b[1;31mView Jupyter <a href='command:jupyter.viewOutput'>log</a> for further details."
     ]
    }
   ],
   "source": [
    "from optiLib import NetworkOptimizationProblem\n",
    "\n",
    "problem = NetworkOptimizationProblem(net, task, f_objective=[f1_min_hop, f_min_workload_node_0, f_min_workload_node_1, f_min_workload_node_2, f_min_workload_node_3, f_min_workload_node_4, f_min_workload_node_5, f_min_workload_node_6, f_min_workload_node_7, f_min_workload_node_8], f_constraints=[c1_time_limit, c2_restriction_first_node], t_lim=10, net_speed=5000, bounds={0: [0,0]}, name=\"NETproblem_3\")"
   ]
  },
  {
   "cell_type": "code",
   "execution_count": null,
   "metadata": {},
   "outputs": [
    {
     "name": "stdout",
     "output_type": "stream",
     "text": [
      "Эксперемент 207\n"
     ]
    },
    {
     "name": "stderr",
     "output_type": "stream",
     "text": [
      "Optimizing:   0%|          | 0/1000 [00:00<?, ?it/s]"
     ]
    }
   ],
   "source": [
    "from IPython.display import clear_output\n",
    "\n",
    "for exp in range(0, 2001):\n",
    "    print(f\"Эксперемент {exp}\")\n",
    "    RANDOM_SEED = exp\n",
    "    random.seed(RANDOM_SEED)\n",
    "    np.random.seed(RANDOM_SEED)\n",
    "\n",
    "    from optiLib.optimizers import RandomSearchOptimizer, ParticleSwarmOptimizer\n",
    "\n",
    "    # Инициализация оптимизатора\n",
    "    optimizer = ParticleSwarmOptimizer(problem, inertia = 1.7,cognitive = 2.5 , social = 1.5, num_particles=100, iterations=1000, update_history_coef = 1000)\n",
    "\n",
    "    # Запуск оптимизации\n",
    "    best_solution, best_value = optimizer.optimize()\n",
    "\n",
    "    from optiLib.helpers import print_solution\n",
    "    print_solution(best_solution, best_value)\n",
    "    print(len(optimizer.history))\n",
    "    if len(optimizer.history)>0:\n",
    "        optimizer.save(exp)\n",
    "    \n",
    "    clear_output(wait=True)"
   ]
  },
  {
   "cell_type": "code",
   "execution_count": 7,
   "metadata": {},
   "outputs": [
    {
     "name": "stdout",
     "output_type": "stream",
     "text": [
      "Эксперемент 2000\n"
     ]
    },
    {
     "name": "stderr",
     "output_type": "stream",
     "text": [
      "Optimizing:   0%|          | 15/10000 [00:00<00:01, 5000.76it/s]"
     ]
    },
    {
     "name": "stdout",
     "output_type": "stream",
     "text": [
      "Лучшее решение: [0 4 5 4]\n",
      "Значение целевой функции: 0.00037153098236336146\n"
     ]
    },
    {
     "name": "stderr",
     "output_type": "stream",
     "text": [
      "\n"
     ]
    },
    {
     "name": "stdout",
     "output_type": "stream",
     "text": [
      "Данные сохранены в файл: ./data/NETproblem_3RS.xlsx\n"
     ]
    }
   ],
   "source": [
    "from IPython.display import clear_output\n",
    "\n",
    "for exp in range(0, 2001):\n",
    "    clear_output(wait=True)\n",
    "    print(f\"Эксперемент {exp}\")\n",
    "    RANDOM_SEED = exp\n",
    "    random.seed(RANDOM_SEED)\n",
    "    np.random.seed(RANDOM_SEED)\n",
    "\n",
    "    from optiLib.optimizers import RandomSearchOptimizer\n",
    "\n",
    "    # Инициализация оптимизатора\n",
    "    optimizer = RandomSearchOptimizer(problem, iterations=10000, update_history_coef = 1000)\n",
    "\n",
    "    # Запуск оптимизации\n",
    "    best_solution, best_value = optimizer.optimize()\n",
    "\n",
    "    from optiLib.helpers import print_solution\n",
    "    print_solution(best_solution, best_value)\n",
    "    if len(optimizer.history)>0:\n",
    "        optimizer.save(exp)\n"
   ]
  },
  {
   "cell_type": "code",
   "execution_count": 8,
   "metadata": {},
   "outputs": [
    {
     "name": "stdout",
     "output_type": "stream",
     "text": [
      "Эксперемент 2000\n"
     ]
    },
    {
     "name": "stderr",
     "output_type": "stream",
     "text": [
      "Optimizing:   0%|          | 0/10000 [00:00<?, ?it/s]"
     ]
    },
    {
     "name": "stdout",
     "output_type": "stream",
     "text": [
      "Лучшее решение: [0 7 5 7]\n",
      "Значение целевой функции: 7.282591462867222e-06\n"
     ]
    },
    {
     "name": "stderr",
     "output_type": "stream",
     "text": [
      "\n"
     ]
    },
    {
     "name": "stdout",
     "output_type": "stream",
     "text": [
      "Данные сохранены в файл: ./data/NETproblem_3DRS.xlsx\n"
     ]
    }
   ],
   "source": [
    "from IPython.display import clear_output\n",
    "\n",
    "for exp in range(0, 2001):\n",
    "    clear_output(wait=True)\n",
    "    print(f\"Эксперемент {exp}\")\n",
    "    RANDOM_SEED = exp\n",
    "    random.seed(RANDOM_SEED)\n",
    "    np.random.seed(RANDOM_SEED)\n",
    "\n",
    "    from optiLib.optimizers import DirectedRandomSearchOptimizer\n",
    "\n",
    "    # Инициализация оптимизатора\n",
    "    optimizer = DirectedRandomSearchOptimizer(problem, iterations=10000, update_history_coef = 1000)\n",
    "\n",
    "    # Запуск оптимизации\n",
    "    best_solution, best_value = optimizer.optimize()\n",
    "\n",
    "    from optiLib.helpers import print_solution\n",
    "    print_solution(best_solution, best_value)\n",
    "    if len(optimizer.history)>0:\n",
    "        optimizer.save(exp)"
   ]
  },
  {
   "cell_type": "code",
   "execution_count": 9,
   "metadata": {},
   "outputs": [
    {
     "name": "stdout",
     "output_type": "stream",
     "text": [
      "Эксперемент 2000\n"
     ]
    },
    {
     "name": "stderr",
     "output_type": "stream",
     "text": [
      "Оптимизация: 100%|██████████| 1000/1000 [00:01<00:00, 516.21it/s]\n"
     ]
    },
    {
     "name": "stdout",
     "output_type": "stream",
     "text": [
      "Лучшее решение: [0 3 8 5]\n",
      "Значение целевой функции: 2.0145872347514017e-07\n",
      "Данные сохранены в файл: ./data/NETproblem_3GA.xlsx\n"
     ]
    }
   ],
   "source": [
    "from IPython.display import clear_output\n",
    "\n",
    "for exp in range(0, 2001):\n",
    "    clear_output(wait=True)\n",
    "    print(f\"Эксперемент {exp}\")\n",
    "    RANDOM_SEED = exp\n",
    "    random.seed(RANDOM_SEED)\n",
    "    np.random.seed(RANDOM_SEED)\n",
    "\n",
    "    from optiLib.optimizers import GeneticAlgorithm\n",
    "\n",
    "    # Инициализация оптимизатора\n",
    "    optimizer = GeneticAlgorithm(problem, population_size=100, generations=1000, update_history_coef = 1000)\n",
    "\n",
    "    # Запуск оптимизации\n",
    "    best_solution, best_value = optimizer.optimize()\n",
    "\n",
    "    from optiLib.helpers import print_solution\n",
    "    print_solution(best_solution, best_value)\n",
    "    if len(optimizer.history)>0:\n",
    "        optimizer.save(exp)"
   ]
  },
  {
   "cell_type": "code",
   "execution_count": 10,
   "metadata": {},
   "outputs": [],
   "source": [
    "from optiLib import NetworkOptimizationProblem\n",
    "\n",
    "problem = NetworkOptimizationProblem(net, task, f_objective=[f1_min_hop, f_min_workload_node_0, f_min_workload_node_1, f_min_workload_node_2, f_min_workload_node_3, f_min_workload_node_4, f_min_workload_node_5, f_min_workload_node_6, f_min_workload_node_7, f_min_workload_node_8], f_constraints=[c1_time_limit, c2_restriction_first_node], t_lim=15, net_speed=100, bounds={0: [0,0]}, name=\"NETproblem_4\")"
   ]
  },
  {
   "cell_type": "code",
   "execution_count": 12,
   "metadata": {},
   "outputs": [
    {
     "name": "stdout",
     "output_type": "stream",
     "text": [
      "Эксперемент 2000\n"
     ]
    },
    {
     "name": "stderr",
     "output_type": "stream",
     "text": [
      "Optimizing:   0%|          | 0/1000 [00:00<?, ?it/s]"
     ]
    },
    {
     "name": "stdout",
     "output_type": "stream",
     "text": [
      "Лучшее решение: [0 5 5 7]\n",
      "Значение целевой функции: 2.7202281585960644e-06\n",
      "1\n"
     ]
    },
    {
     "name": "stderr",
     "output_type": "stream",
     "text": [
      "\n"
     ]
    },
    {
     "name": "stdout",
     "output_type": "stream",
     "text": [
      "Данные сохранены в файл: ./data/NETproblem_4PSO.xlsx\n"
     ]
    }
   ],
   "source": [
    "from IPython.display import clear_output\n",
    "\n",
    "for exp in range(0, 2001):\n",
    "    print(f\"Эксперемент {exp}\")\n",
    "    RANDOM_SEED = exp\n",
    "    random.seed(RANDOM_SEED)\n",
    "    np.random.seed(RANDOM_SEED)\n",
    "\n",
    "    from optiLib.optimizers import RandomSearchOptimizer, ParticleSwarmOptimizer\n",
    "\n",
    "    # Инициализация оптимизатора\n",
    "    optimizer = ParticleSwarmOptimizer(problem, inertia = 1.7,cognitive = 2.5 , social = 1.5, num_particles=100, iterations=1000, update_history_coef = 1000)\n",
    "\n",
    "    # Запуск оптимизации\n",
    "    best_solution, best_value = optimizer.optimize()\n",
    "\n",
    "    from optiLib.helpers import print_solution\n",
    "    print_solution(best_solution, best_value)\n",
    "    print(len(optimizer.history))\n",
    "    if len(optimizer.history)>0:\n",
    "        optimizer.save(exp)\n",
    "    \n",
    "    clear_output(wait=True)"
   ]
  },
  {
   "cell_type": "code",
   "execution_count": 13,
   "metadata": {},
   "outputs": [
    {
     "name": "stdout",
     "output_type": "stream",
     "text": [
      "Эксперемент 2000\n"
     ]
    },
    {
     "name": "stderr",
     "output_type": "stream",
     "text": [
      "Optimizing:   0%|          | 5/10000 [00:00<00:01, 5003.94it/s]"
     ]
    },
    {
     "name": "stdout",
     "output_type": "stream",
     "text": [
      "Лучшее решение: [0 7 7 0]\n",
      "Значение целевой функции: 0.005008116783904629\n"
     ]
    },
    {
     "name": "stderr",
     "output_type": "stream",
     "text": [
      "\n"
     ]
    },
    {
     "name": "stdout",
     "output_type": "stream",
     "text": [
      "Данные сохранены в файл: ./data/NETproblem_4RS.xlsx\n"
     ]
    }
   ],
   "source": [
    "from IPython.display import clear_output\n",
    "\n",
    "for exp in range(0, 2001):\n",
    "    clear_output(wait=True)\n",
    "    print(f\"Эксперемент {exp}\")\n",
    "    RANDOM_SEED = exp\n",
    "    random.seed(RANDOM_SEED)\n",
    "    np.random.seed(RANDOM_SEED)\n",
    "\n",
    "    from optiLib.optimizers import RandomSearchOptimizer\n",
    "\n",
    "    # Инициализация оптимизатора\n",
    "    optimizer = RandomSearchOptimizer(problem, iterations=10000, update_history_coef = 1000)\n",
    "\n",
    "    # Запуск оптимизации\n",
    "    best_solution, best_value = optimizer.optimize()\n",
    "\n",
    "    from optiLib.helpers import print_solution\n",
    "    print_solution(best_solution, best_value)\n",
    "    if len(optimizer.history)>0:\n",
    "        optimizer.save(exp)\n"
   ]
  },
  {
   "cell_type": "code",
   "execution_count": 14,
   "metadata": {},
   "outputs": [
    {
     "name": "stdout",
     "output_type": "stream",
     "text": [
      "Эксперемент 2000\n"
     ]
    },
    {
     "name": "stderr",
     "output_type": "stream",
     "text": [
      "Optimizing:   0%|          | 0/10000 [00:00<?, ?it/s]"
     ]
    },
    {
     "name": "stdout",
     "output_type": "stream",
     "text": [
      "Лучшее решение: [0 7 5 7]\n",
      "Значение целевой функции: 7.282591462867222e-06\n"
     ]
    },
    {
     "name": "stderr",
     "output_type": "stream",
     "text": [
      "\n"
     ]
    },
    {
     "name": "stdout",
     "output_type": "stream",
     "text": [
      "Данные сохранены в файл: ./data/NETproblem_4DRS.xlsx\n"
     ]
    }
   ],
   "source": [
    "from IPython.display import clear_output\n",
    "\n",
    "for exp in range(0, 2001):\n",
    "    clear_output(wait=True)\n",
    "    print(f\"Эксперемент {exp}\")\n",
    "    RANDOM_SEED = exp\n",
    "    random.seed(RANDOM_SEED)\n",
    "    np.random.seed(RANDOM_SEED)\n",
    "\n",
    "    from optiLib.optimizers import DirectedRandomSearchOptimizer\n",
    "\n",
    "    # Инициализация оптимизатора\n",
    "    optimizer = DirectedRandomSearchOptimizer(problem, iterations=10000, update_history_coef = 1000)\n",
    "\n",
    "    # Запуск оптимизации\n",
    "    best_solution, best_value = optimizer.optimize()\n",
    "\n",
    "    from optiLib.helpers import print_solution\n",
    "    print_solution(best_solution, best_value)\n",
    "    if len(optimizer.history)>0:\n",
    "        optimizer.save(exp)"
   ]
  },
  {
   "cell_type": "code",
   "execution_count": 15,
   "metadata": {},
   "outputs": [
    {
     "name": "stdout",
     "output_type": "stream",
     "text": [
      "Эксперемент 2000\n"
     ]
    },
    {
     "name": "stderr",
     "output_type": "stream",
     "text": [
      "Оптимизация:   0%|          | 2/1000 [00:00<00:05, 190.12it/s]"
     ]
    },
    {
     "name": "stdout",
     "output_type": "stream",
     "text": [
      "Лучшее решение: [0 7 8 8]\n",
      "Значение целевой функции: 1.8778836799035714e-09\n"
     ]
    },
    {
     "name": "stderr",
     "output_type": "stream",
     "text": [
      "\n"
     ]
    },
    {
     "name": "stdout",
     "output_type": "stream",
     "text": [
      "Данные сохранены в файл: ./data/NETproblem_4GA.xlsx\n"
     ]
    }
   ],
   "source": [
    "from IPython.display import clear_output\n",
    "\n",
    "for exp in range(0, 2001):\n",
    "    clear_output(wait=True)\n",
    "    print(f\"Эксперемент {exp}\")\n",
    "    RANDOM_SEED = exp\n",
    "    random.seed(RANDOM_SEED)\n",
    "    np.random.seed(RANDOM_SEED)\n",
    "\n",
    "    from optiLib.optimizers import GeneticAlgorithm\n",
    "\n",
    "    # Инициализация оптимизатора\n",
    "    optimizer = GeneticAlgorithm(problem, population_size=100, generations=1000, update_history_coef = 1000)\n",
    "\n",
    "    # Запуск оптимизации\n",
    "    best_solution, best_value = optimizer.optimize()\n",
    "\n",
    "    from optiLib.helpers import print_solution\n",
    "    print_solution(best_solution, best_value)\n",
    "    if len(optimizer.history)>0:\n",
    "        optimizer.save(exp)"
   ]
  },
  {
   "cell_type": "code",
   "execution_count": 16,
   "metadata": {},
   "outputs": [
    {
     "ename": "ZeroDivisionError",
     "evalue": "division by zero",
     "output_type": "error",
     "traceback": [
      "\u001b[1;31m---------------------------------------------------------------------------\u001b[0m",
      "\u001b[1;31mZeroDivisionError\u001b[0m                         Traceback (most recent call last)",
      "Cell \u001b[1;32mIn[16], line 1\u001b[0m\n\u001b[1;32m----> 1\u001b[0m \u001b[38;5;241;43m0\u001b[39;49m\u001b[38;5;241;43m/\u001b[39;49m\u001b[38;5;241;43m0\u001b[39;49m\n",
      "\u001b[1;31mZeroDivisionError\u001b[0m: division by zero"
     ]
    }
   ],
   "source": [
    "0/0"
   ]
  },
  {
   "cell_type": "code",
   "execution_count": 5,
   "metadata": {},
   "outputs": [
    {
     "name": "stdout",
     "output_type": "stream",
     "text": [
      "Эксперемент 2000\n"
     ]
    },
    {
     "name": "stderr",
     "output_type": "stream",
     "text": [
      "Optimizing:   0%|          | 0/10000 [00:00<?, ?it/s]"
     ]
    },
    {
     "name": "stdout",
     "output_type": "stream",
     "text": [
      "Лучшее решение: [0 2 3 7]\n",
      "Значение целевой функции: 5.761399908565784e-05\n"
     ]
    },
    {
     "name": "stderr",
     "output_type": "stream",
     "text": [
      "\n"
     ]
    },
    {
     "name": "stdout",
     "output_type": "stream",
     "text": [
      "Данные сохранены в файл: ./data/NETproblem_3PSO.xlsx\n"
     ]
    }
   ],
   "source": [
    "from IPython.display import clear_output\n",
    "\n",
    "for exp in range(0, 2001):\n",
    "    clear_output(wait=True)\n",
    "    print(f\"Эксперемент {exp}\")\n",
    "    RANDOM_SEED = exp\n",
    "    random.seed(RANDOM_SEED)\n",
    "    np.random.seed(RANDOM_SEED)\n",
    "\n",
    "    from optiLib.optimizers import RandomSearchOptimizer, ParticleSwarmOptimizer\n",
    "\n",
    "    # Инициализация оптимизатора\n",
    "    optimizer = ParticleSwarmOptimizer(problem, inertia = 1.7,cognitive = 2.5 , social = 1.5, num_particles=100, iterations=10000, update_history_coef = 1000)\n",
    "\n",
    "    # Запуск оптимизации\n",
    "    best_solution, best_value = optimizer.optimize()\n",
    "\n",
    "    from optiLib.helpers import print_solution\n",
    "    print_solution(best_solution, best_value)\n",
    "    if len(optimizer.history)>0:\n",
    "        optimizer.save(exp)\n"
   ]
  },
  {
   "cell_type": "code",
   "execution_count": 6,
   "metadata": {},
   "outputs": [
    {
     "name": "stdout",
     "output_type": "stream",
     "text": [
      "Эксперемент 2000\n"
     ]
    },
    {
     "name": "stderr",
     "output_type": "stream",
     "text": [
      "Optimizing:   0%|          | 0/1000 [00:00<?, ?it/s]"
     ]
    },
    {
     "name": "stdout",
     "output_type": "stream",
     "text": [
      "Лучшее решение: [0 2 3 7]\n",
      "Значение целевой функции: 5.761399908565784e-05\n",
      "1\n"
     ]
    },
    {
     "name": "stderr",
     "output_type": "stream",
     "text": [
      "\n"
     ]
    },
    {
     "name": "stdout",
     "output_type": "stream",
     "text": [
      "Данные сохранены в файл: ./data/NETproblem_3PSO.xlsx\n"
     ]
    }
   ],
   "source": [
    "from IPython.display import clear_output\n",
    "\n",
    "for exp in range(0, 2001):\n",
    "    print(f\"Эксперемент {exp}\")\n",
    "    RANDOM_SEED = exp\n",
    "    random.seed(RANDOM_SEED)\n",
    "    np.random.seed(RANDOM_SEED)\n",
    "\n",
    "    from optiLib.optimizers import RandomSearchOptimizer, ParticleSwarmOptimizer\n",
    "\n",
    "    # Инициализация оптимизатора\n",
    "    optimizer = ParticleSwarmOptimizer(problem, inertia = 1.7,cognitive = 2.5 , social = 1.5, num_particles=100, iterations=1000, update_history_coef = 1000)\n",
    "\n",
    "    # Запуск оптимизации\n",
    "    best_solution, best_value = optimizer.optimize()\n",
    "\n",
    "    from optiLib.helpers import print_solution\n",
    "    print_solution(best_solution, best_value)\n",
    "    print(len(optimizer.history))\n",
    "    if len(optimizer.history)>0:\n",
    "        optimizer.save(exp)\n",
    "    \n",
    "    clear_output(wait=True)"
   ]
  },
  {
   "cell_type": "code",
   "execution_count": 7,
   "metadata": {},
   "outputs": [
    {
     "name": "stdout",
     "output_type": "stream",
     "text": [
      "Эксперемент 2000\n"
     ]
    },
    {
     "name": "stderr",
     "output_type": "stream",
     "text": [
      "Optimizing:   0%|          | 15/300000 [00:00<00:19, 15036.94it/s]"
     ]
    },
    {
     "name": "stdout",
     "output_type": "stream",
     "text": [
      "Лучшее решение: [0 4 5 4]\n",
      "Значение целевой функции: 0.00037153098236336146\n"
     ]
    },
    {
     "name": "stderr",
     "output_type": "stream",
     "text": [
      "\n"
     ]
    },
    {
     "name": "stdout",
     "output_type": "stream",
     "text": [
      "Данные сохранены в файл: ./data/NETproblem_3RS.xlsx\n"
     ]
    },
    {
     "ename": "",
     "evalue": "",
     "output_type": "error",
     "traceback": [
      "\u001b[1;31mThe Kernel crashed while executing code in the current cell or a previous cell. \n",
      "\u001b[1;31mPlease review the code in the cell(s) to identify a possible cause of the failure. \n",
      "\u001b[1;31mClick <a href='https://aka.ms/vscodeJupyterKernelCrash'>here</a> for more info. \n",
      "\u001b[1;31mView Jupyter <a href='command:jupyter.viewOutput'>log</a> for further details."
     ]
    }
   ],
   "source": [
    "from IPython.display import clear_output\n",
    "\n",
    "for exp in range(0, 2001):\n",
    "    clear_output(wait=True)\n",
    "    print(f\"Эксперемент {exp}\")\n",
    "    RANDOM_SEED = exp\n",
    "    random.seed(RANDOM_SEED)\n",
    "    np.random.seed(RANDOM_SEED)\n",
    "\n",
    "    from optiLib.optimizers import RandomSearchOptimizer\n",
    "\n",
    "    # Инициализация оптимизатора\n",
    "    optimizer = RandomSearchOptimizer(problem, iterations=300000, update_history_coef = 1000)\n",
    "\n",
    "    # Запуск оптимизации\n",
    "    best_solution, best_value = optimizer.optimize()\n",
    "\n",
    "    from optiLib.helpers import print_solution\n",
    "    print_solution(best_solution, best_value)\n",
    "    if len(optimizer.history)>0:\n",
    "        optimizer.save(exp)\n"
   ]
  },
  {
   "cell_type": "code",
   "execution_count": 6,
   "metadata": {},
   "outputs": [
    {
     "name": "stdout",
     "output_type": "stream",
     "text": [
      "Эксперемент 743\n"
     ]
    },
    {
     "name": "stderr",
     "output_type": "stream",
     "text": [
      "Optimizing:  83%|████████▎ | 16575/20000 [00:02<00:00, 7983.08it/s]"
     ]
    },
    {
     "ename": "",
     "evalue": "",
     "output_type": "error",
     "traceback": [
      "\u001b[1;31mThe Kernel crashed while executing code in the current cell or a previous cell. \n",
      "\u001b[1;31mPlease review the code in the cell(s) to identify a possible cause of the failure. \n",
      "\u001b[1;31mClick <a href='https://aka.ms/vscodeJupyterKernelCrash'>here</a> for more info. \n",
      "\u001b[1;31mView Jupyter <a href='command:jupyter.viewOutput'>log</a> for further details."
     ]
    }
   ],
   "source": [
    "from IPython.display import clear_output\n",
    "\n",
    "for exp in range(0, 2001):\n",
    "    clear_output(wait=True)\n",
    "    print(f\"Эксперемент {exp}\")\n",
    "    RANDOM_SEED = exp\n",
    "    random.seed(RANDOM_SEED)\n",
    "    np.random.seed(RANDOM_SEED)\n",
    "\n",
    "    from optiLib.optimizers import DirectedRandomSearchOptimizer\n",
    "\n",
    "    # Инициализация оптимизатора\n",
    "    optimizer = DirectedRandomSearchOptimizer(problem, iterations=20000, update_history_coef = 1000)\n",
    "\n",
    "    # Запуск оптимизации\n",
    "    best_solution, best_value = optimizer.optimize()\n",
    "\n",
    "    from optiLib.helpers import print_solution\n",
    "    print_solution(best_solution, best_value)\n",
    "    if len(optimizer.history)>0:\n",
    "        optimizer.save(exp)"
   ]
  },
  {
   "cell_type": "code",
   "execution_count": null,
   "metadata": {},
   "outputs": [
    {
     "name": "stdout",
     "output_type": "stream",
     "text": [
      "Эксперемент 1249\n"
     ]
    },
    {
     "name": "stderr",
     "output_type": "stream",
     "text": [
      "Оптимизация:  13%|█▎        | 127/1000 [00:01<00:08, 104.15it/s]\n"
     ]
    },
    {
     "name": "stdout",
     "output_type": "stream",
     "text": [
      "Лучшее решение: [0 0 0 5 3 4 5 0 8 2 1 0 0]\n",
      "Значение целевой функции: 2.5266222825529805e-05\n"
     ]
    }
   ],
   "source": [
    "from IPython.display import clear_output\n",
    "\n",
    "for exp in range(0, 10001):\n",
    "    clear_output(wait=True)\n",
    "    print(f\"Эксперемент {exp}\")\n",
    "    RANDOM_SEED = exp\n",
    "    random.seed(RANDOM_SEED)\n",
    "    np.random.seed(RANDOM_SEED)\n",
    "\n",
    "    from optiLib.optimizers import GeneticAlgorithm\n",
    "\n",
    "    # Инициализация оптимизатора\n",
    "    optimizer = GeneticAlgorithm(problem, population_size=100, generations=1000, update_history_coef = 1000)\n",
    "\n",
    "    # Запуск оптимизации\n",
    "    best_solution, best_value = optimizer.optimize()\n",
    "\n",
    "    from optiLib.helpers import print_solution\n",
    "    print_solution(best_solution, best_value)\n",
    "    if len(optimizer.history)>0:\n",
    "        optimizer.save(exp)"
   ]
  },
  {
   "cell_type": "code",
   "execution_count": 8,
   "metadata": {},
   "outputs": [
    {
     "name": "stdout",
     "output_type": "stream",
     "text": [
      "[{'iteration': 5, 'Решение': 505, 'Алгоритм': 'PSO', 'vector': array([0, 0, 0, 8, 0, 0, 8, 0, 0, 0, 0, 0, 0])}]\n"
     ]
    }
   ],
   "source": [
    "print(optimizer.history)"
   ]
  },
  {
   "cell_type": "code",
   "execution_count": 7,
   "metadata": {},
   "outputs": [],
   "source": [
    "problem.scheduler.calculate_schedule([0, 5, 5, 5])"
   ]
  },
  {
   "cell_type": "code",
   "execution_count": 8,
   "metadata": {},
   "outputs": [
    {
     "name": "stdout",
     "output_type": "stream",
     "text": [
      "\n",
      "Расширенная информация:\n",
      "Общее время выполнения комплекса задач: 9.97\n",
      "\n",
      "Время работы каждого узла:\n",
      "Узел 0: 2.04\n",
      "Узел 1: 0.80\n",
      "Узел 2: 0.20\n",
      "Узел 5: 6.60\n",
      "\n",
      "Время, затраченное каждым узлом на отправку данных:\n",
      "Узел 0: 0.04\n",
      "Узел 1: 0.40\n",
      "Узел 2: 0.10\n",
      "\n",
      "Время, затраченное каждым узлом на прием данных:\n",
      "Узел 1: 0.40\n",
      "Узел 2: 0.10\n",
      "Узел 5: 0.10\n",
      "\n",
      "Общее количество пересылок между задачами: 6\n"
     ]
    }
   ],
   "source": [
    "problem.scheduler.print_extended_info()"
   ]
  },
  {
   "cell_type": "code",
   "execution_count": 20,
   "metadata": {},
   "outputs": [
    {
     "data": {
      "image/png": "[encoded data removed]",
      "text/plain": [
       "<Figure size 1500x800 with 1 Axes>"
      ]
     },
     "metadata": {},
     "output_type": "display_data"
    }
   ],
   "source": [
    "problem.scheduler.create_gantt_chart()"
   ]
  },
  {
   "cell_type": "code",
   "execution_count": 12,
   "metadata": {},
   "outputs": [
    {
     "data": {
      "text/plain": [
       "inf"
      ]
     },
     "execution_count": 12,
     "metadata": {},
     "output_type": "execute_result"
    }
   ],
   "source": [
    "problem.evaluate([0,2,2,2,1,1,0,0,0,0,0,0,0])"
   ]
  },
  {
   "cell_type": "code",
   "execution_count": 13,
   "metadata": {},
   "outputs": [
    {
     "data": {
      "text/plain": [
       "{'Time': 22.50000000000002,\n",
       " 'edge_hop': 33,\n",
       " 'time_node': {0: 0.6500000000000019,\n",
       "  1: 9.9,\n",
       "  2: 2.3999999999999986,\n",
       "  5: 2.1999999999999957,\n",
       "  8: 2.700000000000003,\n",
       "  4: 0.20000000000000995,\n",
       "  7: 0.33333333333333215}}"
      ]
     },
     "execution_count": 13,
     "metadata": {},
     "output_type": "execute_result"
    }
   ],
   "source": [
    "status(tuple([0,8,5,2,1,1,0,0,7,0,0,0,8]), problem)"
   ]
  },
  {
   "cell_type": "code",
   "execution_count": 14,
   "metadata": {},
   "outputs": [
    {
     "name": "stderr",
     "output_type": "stream",
     "text": [
      "Optimizing: 100%|██████████| 1000/1000 [00:00<00:00, 6691.55it/s]\n"
     ]
    },
    {
     "name": "stdout",
     "output_type": "stream",
     "text": [
      "Лучшее решение: [0 0 5 0 3 3 4 3 0 4 0 0 3]\n",
      "Значение целевой функции: 0.000140688298311217\n"
     ]
    },
    {
     "ename": "TypeError",
     "evalue": "Optimizer.save() missing 1 required positional argument: 'experiment_number'",
     "output_type": "error",
     "traceback": [
      "\u001b[1;31m---------------------------------------------------------------------------\u001b[0m",
      "\u001b[1;31mTypeError\u001b[0m                                 Traceback (most recent call last)",
      "Cell \u001b[1;32mIn[14], line 19\u001b[0m\n\u001b[0;32m     16\u001b[0m \u001b[38;5;28;01mfor\u001b[39;00m i, item \u001b[38;5;129;01min\u001b[39;00m \u001b[38;5;28menumerate\u001b[39m(optimizer\u001b[38;5;241m.\u001b[39mhistory):\n\u001b[0;32m     17\u001b[0m     optimizer\u001b[38;5;241m.\u001b[39mhistory[i]\u001b[38;5;241m=\u001b[39m{\u001b[38;5;241m*\u001b[39m\u001b[38;5;241m*\u001b[39mitem, \u001b[38;5;241m*\u001b[39m\u001b[38;5;241m*\u001b[39mnetwork_status_calculation(\u001b[38;5;28mtuple\u001b[39m(item[\u001b[38;5;124m'\u001b[39m\u001b[38;5;124mvector\u001b[39m\u001b[38;5;124m'\u001b[39m]), problem)}\n\u001b[1;32m---> 19\u001b[0m \u001b[43moptimizer\u001b[49m\u001b[38;5;241;43m.\u001b[39;49m\u001b[43msave\u001b[49m\u001b[43m(\u001b[49m\u001b[43m)\u001b[49m\n",
      "\u001b[1;31mTypeError\u001b[0m: Optimizer.save() missing 1 required positional argument: 'experiment_number'"
     ]
    }
   ],
   "source": [
    "RANDOM_SEED = 1\n",
    "random.seed(RANDOM_SEED)\n",
    "np.random.seed(RANDOM_SEED)\n",
    "\n",
    "from optiLib.optimizers import RandomSearchOptimizer\n",
    "\n",
    "# Инициализация оптимизатора\n",
    "optimizer = RandomSearchOptimizer(problem,iterations = 1000)\n",
    "\n",
    "# Запуск оптимизации\n",
    "best_solution, best_value = optimizer.optimize()\n",
    "\n",
    "from optiLib.helpers import print_solution\n",
    "print_solution(best_solution, best_value)\n",
    "\n",
    "for i, item in enumerate(optimizer.history):\n",
    "    optimizer.history[i]={**item, **network_status_calculation(tuple(item['vector']), problem)}\n",
    "\n",
    "optimizer.save()"
   ]
  },
  {
   "cell_type": "code",
   "execution_count": null,
   "metadata": {},
   "outputs": [],
   "source": [
    "RANDOM_SEED = 1\n",
    "random.seed(RANDOM_SEED)\n",
    "np.random.seed(RANDOM_SEED)\n",
    "\n",
    "from optiLib.optimizers import GreedyOptimizer\n",
    "\n",
    "# Инициализация оптимизатора\n",
    "optimizer = GreedyOptimizer(problem)\n",
    "\n",
    "# Запуск оптимизации\n",
    "best_solution, best_value = optimizer.optimize()\n",
    "\n",
    "from optiLib.helpers import print_solution\n",
    "print_solution(best_solution, best_value)\n",
    "\n",
    "for i, item in enumerate(optimizer.history):\n",
    "    optimizer.history[i]={**item, **network_status_calculation(tuple(item['vector']), problem)}\n",
    "\n",
    "optimizer.save()"
   ]
  }
 ],
 "metadata": {
  "kernelspec": {
   "display_name": ".venv",
   "language": "python",
   "name": "python3"
  },
  "language_info": {
   "codemirror_mode": {
    "name": "ipython",
    "version": 3
   },
   "file_extension": ".py",
   "mimetype": "text/x-python",
   "name": "python",
   "nbconvert_exporter": "python",
   "pygments_lexer": "ipython3",
   "version": "3.12.2"
  }
 },
 "nbformat": 4,
 "nbformat_minor": 2
}
